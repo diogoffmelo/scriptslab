{
 "cells": [
  {
   "cell_type": "code",
   "execution_count": 1,
   "metadata": {},
   "outputs": [],
   "source": [
    "import numpy as np\n",
    "import pandas as pd\n",
    "import matplotlib.pyplot as plt\n",
    "from sklearn import datasets\n",
    "from sklearn.model_selection import train_test_split\n",
    "from sklearn.semi_supervised import LabelSpreading\n",
    "from sklearn.metrics import classification_report"
   ]
  },
  {
   "cell_type": "code",
   "execution_count": 2,
   "metadata": {},
   "outputs": [],
   "source": [
    "data = datasets.load_iris()"
   ]
  },
  {
   "cell_type": "code",
   "execution_count": 3,
   "metadata": {},
   "outputs": [],
   "source": [
    "X = pd.DataFrame(data=data.data, columns=data.feature_names)"
   ]
  },
  {
   "cell_type": "code",
   "execution_count": 4,
   "metadata": {},
   "outputs": [],
   "source": [
    "Y = pd.Series(data=data.target)"
   ]
  },
  {
   "cell_type": "code",
   "execution_count": 5,
   "metadata": {},
   "outputs": [
    {
     "name": "stdout",
     "output_type": "stream",
     "text": [
      "============ unlabeled porportion:0.90 ===================\n",
      "             precision    recall  f1-score   support\n",
      "\n",
      "          0       1.00      1.00      1.00        50\n",
      "          1       0.94      0.92      0.93        50\n",
      "          2       0.92      0.94      0.93        50\n",
      "\n",
      "avg / total       0.95      0.95      0.95       150\n",
      "\n",
      "============ unlabeled porportion:0.70 ===================\n",
      "             precision    recall  f1-score   support\n",
      "\n",
      "          0       1.00      1.00      1.00        50\n",
      "          1       0.94      0.98      0.96        50\n",
      "          2       0.98      0.94      0.96        50\n",
      "\n",
      "avg / total       0.97      0.97      0.97       150\n",
      "\n",
      "============ unlabeled porportion:0.30 ===================\n",
      "             precision    recall  f1-score   support\n",
      "\n",
      "          0       1.00      1.00      1.00        50\n",
      "          1       0.98      1.00      0.99        50\n",
      "          2       1.00      0.98      0.99        50\n",
      "\n",
      "avg / total       0.99      0.99      0.99       150\n",
      "\n",
      "============ unlabeled porportion:0.10 ===================\n",
      "             precision    recall  f1-score   support\n",
      "\n",
      "          0       1.00      1.00      1.00        50\n",
      "          1       0.98      0.96      0.97        50\n",
      "          2       0.96      0.98      0.97        50\n",
      "\n",
      "avg / total       0.98      0.98      0.98       150\n",
      "\n"
     ]
    }
   ],
   "source": [
    "for tsize in [0.1, 0.3, 0.7, 0.9]:\n",
    "    _Y = Y.copy()\n",
    "    idxs_no_label, _, _, _ = train_test_split(np.arange(len(_Y)), Y, test_size=tsize)\n",
    "    _Y[idxs_no_label] = -1\n",
    "    spreading = LabelSpreading()\n",
    "    spreading.fit(X, _Y)\n",
    "    _Y = spreading.predict(X)\n",
    "    print(\"============ unlabeled porportion:{:.2f} ===================\".format(1-tsize))\n",
    "    print(classification_report(Y, _Y))"
   ]
  },
  {
   "cell_type": "markdown",
   "metadata": {},
   "source": [
    "Bug no scipy!!!!\n",
    "\n",
    "from scipy.sparse import csgraph\n",
    "laplacian = csgraph.laplacian(affinity_matrix, normed=True)"
   ]
  }
 ],
 "metadata": {
  "kernelspec": {
   "display_name": "trees",
   "language": "python",
   "name": "trees"
  },
  "language_info": {
   "codemirror_mode": {
    "name": "ipython",
    "version": 3
   },
   "file_extension": ".py",
   "mimetype": "text/x-python",
   "name": "python",
   "nbconvert_exporter": "python",
   "pygments_lexer": "ipython3",
   "version": "3.5.2"
  }
 },
 "nbformat": 4,
 "nbformat_minor": 2
}
